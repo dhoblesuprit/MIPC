{
 "cells": [
  {
   "cell_type": "code",
   "execution_count": 1,
   "metadata": {},
   "outputs": [],
   "source": [
    "import numpy as np\n",
    "import cvxpy as cvx\n",
    "import pandas as pd\n",
    "import matplotlib.pyplot as plt\n",
    "from scipy.stats import norm\n",
    "%matplotlib inline "
   ]
  },
  {
   "cell_type": "code",
   "execution_count": 2,
   "metadata": {},
   "outputs": [],
   "source": [
    "data = pd.read_csv('MIPC 2018 Total Liabilities.csv')\n",
    "data.columns = data.iloc[0]\n",
    "data.drop(data.index[0], inplace=True)\n",
    "data.reset_index(drop=True,inplace=True)\n",
    "active = data['Active']\n",
    "active = pd.to_numeric(active)\n",
    "retirees = data['Retirees']\n",
    "retirees = pd.to_numeric(retirees)\n",
    "total = data['Total']\n",
    "total = pd.to_numeric(total)"
   ]
  },
  {
   "cell_type": "code",
   "execution_count": 3,
   "metadata": {},
   "outputs": [],
   "source": [
    "N = 50\n",
    "N_bar=6\n",
    "e1 = 0.05\n",
    "beta = 0.5\n",
    "\n",
    "tau = 3.0\n",
    "D = np.array([[0,1,0,0,0],[0,0,1,0,0],[0,0,0,1,0],[0,0,0,0,0],[0,0,0,0,1]])\n",
    "d = np.array([1,0,0,0,0])\n",
    "cash = np.array([1,0,0,0,0])\n",
    "discount_rate = 0.07\n",
    "asset_initial_value= 1450000000\n",
    "\n",
    "z = np.zeros((N,3))\n",
    "z[0,0] = 4.5794\n",
    "z[0,1] = -0.3443\n",
    "z[0,2] = -0.2767\n",
    "m = np.array([6.1694,-2.4183,0.4244])\n",
    "mu = np.array([0.0783])\n",
    "q0 = 1248.29\n",
    "\n",
    "V = np.array([[2.1775,-4.5778,19.3399,-0.1201],\n",
    "             [-4.5778,15.6181,-43.6039,0.2679],\n",
    "             [19.3399,-43.6039,179.7153,-1.0094],\n",
    "             [-0.1201,0.2679,-1.0094,0.0078]])\n",
    "A = np.linalg.cholesky(V)\n",
    "rho = (V*V.T)[:3,:3]"
   ]
  },
  {
   "cell_type": "code",
   "execution_count": null,
   "metadata": {},
   "outputs": [],
   "source": []
  },
  {
   "cell_type": "code",
   "execution_count": 4,
   "metadata": {},
   "outputs": [],
   "source": [
    "def spot_rate(t,j,z,tau=3):\n",
    "    s = z[t,0] + z[t,1]*((1-np.exp(-j/tau))/(j/tau)) + z[t,2]*((1-np.exp(-j/tau))/(j/tau)-np.exp(-j/tau))\n",
    "    return s"
   ]
  },
  {
   "cell_type": "code",
   "execution_count": 5,
   "metadata": {},
   "outputs": [],
   "source": [
    "def discounted_liabilities(liabilities,discount_rate,N):\n",
    "    cumm_dis_lia = np.zeros(N)\n",
    "    for i in range(len(cumm_dis_lia)):\n",
    "        for j in range(i,len(liabilities)):\n",
    "            cumm_dis_lia[i] = cumm_dis_lia[i] + liabilities[j]/np.power(1+discount_rate,j-i)\n",
    "    return cumm_dis_lia/(1+discount_rate)"
   ]
  },
  {
   "cell_type": "code",
   "execution_count": 6,
   "metadata": {},
   "outputs": [],
   "source": [
    "def grad_z1(t,j,z,tau=3):\n",
    "    spot_rate = z[t,0] + z[t,1]*((1-np.exp(-j/tau))/(j/tau)) + z[t,2]*((1-np.exp(-j/tau))/(j/tau)-np.exp(-j/tau))\n",
    "    grad_value = -j*np.power(1+spot_rate,-j-1)\n",
    "    return grad_value"
   ]
  },
  {
   "cell_type": "code",
   "execution_count": 7,
   "metadata": {},
   "outputs": [],
   "source": [
    "def grad_z2(t,j,z,tau=3):\n",
    "    spot_rate = z[t,0] + z[t,1]*((1-np.exp(-j/tau))/(j/tau)) + z[t,2]*((1-np.exp(-j/tau))/(j/tau)-np.exp(-j/tau))\n",
    "    grad_value = -j*np.power(1+spot_rate,-j-1)*((1-np.exp(-j/tau))/(j/tau))\n",
    "    return grad_value"
   ]
  },
  {
   "cell_type": "code",
   "execution_count": 8,
   "metadata": {},
   "outputs": [],
   "source": [
    "def grad_z3(t,j,z,tau=3):\n",
    "    spot_rate = z[t,0] + z[t,1]*((1-np.exp(-j/tau))/(j/tau)) + z[t,2]*((1-np.exp(-j/tau))/(j/tau)-np.exp(-j/tau))\n",
    "    grad_value = -j*np.power(1+spot_rate,-j-1)*((1-np.exp(-j/tau))/(j/tau)-np.exp(-j/tau))\n",
    "    return grad_value"
   ]
  },
  {
   "cell_type": "code",
   "execution_count": 9,
   "metadata": {},
   "outputs": [],
   "source": [
    "def grad_z1z1(t,j,z,tau=3):\n",
    "    spot_rate = z[t,0] + z[t,1]*((1-np.exp(-j/tau))/(j/tau)) + z[t,2]*((1-np.exp(-j/tau))/(j/tau)-np.exp(-j/tau))\n",
    "    grad_value = -j*(-j-1)*np.power(1+spot_rate,-j-2)\n",
    "    return grad_value"
   ]
  },
  {
   "cell_type": "code",
   "execution_count": 10,
   "metadata": {},
   "outputs": [],
   "source": [
    "def grad_z1z2(t,j,z,tau=3):\n",
    "    spot_rate = z[t,0] + z[t,1]*((1-np.exp(-j/tau))/(j/tau)) + z[t,2]*((1-np.exp(-j/tau))/(j/tau)-np.exp(-j/tau))\n",
    "    grad_value = -j*(-j-1)*((1-np.exp(-j/tau))/(j/tau))*np.power(1+spot_rate,-j-2)\n",
    "    return grad_value"
   ]
  },
  {
   "cell_type": "code",
   "execution_count": 11,
   "metadata": {},
   "outputs": [],
   "source": [
    "def grad_z1z3(t,j,z,tau=3):\n",
    "    spot_rate = z[t,0] + z[t,1]*((1-np.exp(-j/tau))/(j/tau)) + z[t,2]*((1-np.exp(-j/tau))/(j/tau)-np.exp(-j/tau))\n",
    "    grad_value = -j*(-j-1)*((1-np.exp(-j/tau))/(j/tau)-np.exp(-j/tau))*np.power(1+spot_rate,-j-2)\n",
    "    return grad_value"
   ]
  },
  {
   "cell_type": "code",
   "execution_count": 12,
   "metadata": {},
   "outputs": [],
   "source": [
    "def grad_z2z2(t,j,z,tau=3):\n",
    "    spot_rate = z[t,0] + z[t,1]*((1-np.exp(-j/tau))/(j/tau)) + z[t,2]*((1-np.exp(-j/tau))/(j/tau)-np.exp(-j/tau))\n",
    "    grad_value = -j*(-j-1)*np.power(1+spot_rate,-j-2)*np.power(((1-np.exp(-j/tau))/(j/tau)),2)\n",
    "    return grad_value"
   ]
  },
  {
   "cell_type": "code",
   "execution_count": 13,
   "metadata": {},
   "outputs": [],
   "source": [
    "def grad_z2z3(t,j,z,tau=3):\n",
    "    spot_rate = z[t,0] + z[t,1]*((1-np.exp(-j/tau))/(j/tau)) + z[t,2]*((1-np.exp(-j/tau))/(j/tau)-np.exp(-j/tau))\n",
    "    grad_value = -j*(-j-1)*np.power(1+spot_rate,-j-2)*((1-np.exp(-j/tau))/(j/tau))*((1-np.exp(-j/tau))/(j/tau)-np.exp(-j/tau))\n",
    "    return grad_value"
   ]
  },
  {
   "cell_type": "code",
   "execution_count": 14,
   "metadata": {},
   "outputs": [],
   "source": [
    "def grad_z3z3(t,j,z,tau=3):\n",
    "    spot_rate = z[t,0] + z[t,1]*((1-np.exp(-j/tau))/(j/tau)) + z[t,2]*((1-np.exp(-j/tau))/(j/tau)-np.exp(-j/tau))\n",
    "    grad_value = -j*(-j-1)*np.power(1+spot_rate,-j-2)*np.power(((1-np.exp(-j/tau))/(j/tau)-np.exp(-j/tau)),2)\n",
    "    return grad_value"
   ]
  },
  {
   "cell_type": "code",
   "execution_count": 15,
   "metadata": {},
   "outputs": [],
   "source": [
    "def delta_p_j(j,m,z,mu,rho,tau=3):\n",
    "    grad_z = np.array([grad_z1(0,j,z,tau),grad_z2(0,j,z,tau),grad_z3(0,j,z,tau)])\n",
    "    doublegrad_z = np.array([[grad_z1z1(0,j,z,tau),grad_z1z2(0,j,z,tau),grad_z1z3(0,j,z,tau)],\n",
    "                            [grad_z1z2(0,j,z,tau),grad_z2z2(0,j,z,tau),grad_z2z3(0,j,z,tau)],\n",
    "                            [grad_z1z3(0,j,z,tau),grad_z2z3(0,j,z,tau),grad_z3z3(0,j,z,tau)]])\n",
    "    first = np.sum((m-z[0,:])*grad_z)\n",
    "    second = np.sum(0.5*rho*doublegrad_z)\n",
    "    return first+second"
   ]
  },
  {
   "cell_type": "code",
   "execution_count": 16,
   "metadata": {},
   "outputs": [
    {
     "name": "stdout",
     "output_type": "stream",
     "text": [
      "5\n"
     ]
    }
   ],
   "source": [
    "delta_p = np.zeros(5)\n",
    "print(len(delta_p))\n",
    "for j in range(len(delta_p)):\n",
    "    if j==len(delta_p)-1:\n",
    "        delta_p[j]=q0*mu\n",
    "    else:\n",
    "        delta_p[j] = delta_p_j(j+1,m,z,mu,tau)\n",
    "\n",
    "grad_p = np.zeros((5,4))\n",
    "for index,x in np.ndenumerate(grad_p):\n",
    "    if index[0]==4 or index[1]==3:\n",
    "        grad_p[index[0],index[1]] = 0\n",
    "    elif index[1]==0 :\n",
    "        grad_p[index[0],index[1]]= grad_z1(0,index[0]+1,z,tau)\n",
    "    elif index[1]==1 :\n",
    "        grad_p[index[0],index[1]]= grad_z2(0,index[0]+1,z,tau)\n",
    "    else :\n",
    "        grad_p[index[0],index[1]]= grad_z3(0,index[0]+1,z,tau)\n",
    "grad_p[4,3]=q0"
   ]
  },
  {
   "cell_type": "code",
   "execution_count": 17,
   "metadata": {},
   "outputs": [
    {
     "name": "stderr",
     "output_type": "stream",
     "text": [
      "/anaconda2/envs/py36/lib/python3.6/site-packages/ipykernel_launcher.py:2: RuntimeWarning: invalid value encountered in double_scalars\n",
      "  \n"
     ]
    },
    {
     "data": {
      "text/plain": [
       "[<matplotlib.lines.Line2D at 0x1a118d1390>]"
      ]
     },
     "execution_count": 17,
     "metadata": {},
     "output_type": "execute_result"
    },
    {
     "data": {
      "image/png": "[encoded data removed]",
      "text/plain": [
       "<matplotlib.figure.Figure at 0x1a0e5e96d8>"
      ]
     },
     "metadata": {},
     "output_type": "display_data"
    }
   ],
   "source": [
    "spot = np.zeros(50)\n",
    "for j in range(50):\n",
    "    spot[j] = spot_rate(0,j,z,3)\n",
    "\n",
    "plt.plot(spot)"
   ]
  },
  {
   "cell_type": "code",
   "execution_count": 18,
   "metadata": {},
   "outputs": [],
   "source": [
    "cumm_dis_lia = discounted_liabilities(total,discount_rate,N)\n"
   ]
  },
  {
   "cell_type": "code",
   "execution_count": 19,
   "metadata": {},
   "outputs": [],
   "source": [
    "#cvx variable declaration\n",
    "theta = cvx.Variable((N_bar+1,5))\n",
    "w = cvx.Variable(N_bar)"
   ]
  },
  {
   "cell_type": "code",
   "execution_count": null,
   "metadata": {},
   "outputs": [],
   "source": []
  },
  {
   "cell_type": "code",
   "execution_count": 20,
   "metadata": {},
   "outputs": [],
   "source": [
    "p0 = np.array([1/spot_rate(0,1,z,tau=3),\n",
    "               1/spot_rate(0,2,z,tau=3),\n",
    "               1/spot_rate(0,3,z,tau=3),\n",
    "               1/spot_rate(0,4,z,tau=3),\n",
    "               1248.29])"
   ]
  },
  {
   "cell_type": "code",
   "execution_count": 21,
   "metadata": {},
   "outputs": [
    {
     "data": {
      "text/plain": [
       "1.6448536269514722"
      ]
     },
     "execution_count": 21,
     "metadata": {},
     "output_type": "execute_result"
    }
   ],
   "source": [
    "norm.ppf(1-e1)"
   ]
  },
  {
   "cell_type": "code",
   "execution_count": 22,
   "metadata": {},
   "outputs": [
    {
     "data": {
      "text/plain": [
       "[Zero(Expression(AFFINE, UNKNOWN, ())),\n",
       " NonPos(Expression(CONVEX, UNKNOWN, ())),\n",
       " NonPos(Expression(CONVEX, UNKNOWN, ())),\n",
       " NonPos(Expression(CONVEX, UNKNOWN, ())),\n",
       " NonPos(Expression(CONVEX, UNKNOWN, ())),\n",
       " NonPos(Expression(CONVEX, UNKNOWN, ())),\n",
       " NonPos(Expression(CONVEX, UNKNOWN, ())),\n",
       " NonPos(Expression(AFFINE, UNKNOWN, (6,))),\n",
       " NonPos(Expression(AFFINE, UNKNOWN, (7, 5)))]"
      ]
     },
     "execution_count": 22,
     "metadata": {},
     "output_type": "execute_result"
    }
   ],
   "source": [
    "# constraints\n",
    "constraints = [];\n",
    "\n",
    "# (4) constraint\n",
    "constraints+= [p0*theta[0,:] == asset_initial_value]\n",
    "\n",
    "# (18) constraint\n",
    "for t in range(1,N_bar):\n",
    "    constraints+= [cvx.norm((D*theta[t-1,:]-theta[t,:])*np.matmul(grad_p,V))*np.sqrt(t)*norm.ppf(1-e1) <= (p0+delta_p*t)*(D*theta[t-1,:]-theta[t,:])+d*theta[t-1,:]+w[t-1]-total[t-1]]\n",
    "\n",
    "\n",
    "# (19) constraint\n",
    "t= N_bar\n",
    "constraints+= [cvx.norm((D*theta[t-1,:]-theta[t,:])*np.matmul(grad_p,V))*np.sqrt(t)*norm.ppf(1-e1) <=(p0+delta_p*t)*(D*theta[t-1,:])+d*theta[t-1,:]+w[t-1]-total[t-1]-beta*cumm_dis_lia[t]]\n",
    "\n",
    "\n",
    "#\n",
    "constraints+=[w>=0]\n",
    "constraints+=[theta>=0]\n",
    "\n",
    "constraints"
   ]
  },
  {
   "cell_type": "code",
   "execution_count": 29,
   "metadata": {},
   "outputs": [
    {
     "ename": "AttributeError",
     "evalue": "'Problem' object has no attribute 'setParam'",
     "output_type": "error",
     "traceback": [
      "\u001b[0;31m---------------------------------------------------------------------------\u001b[0m",
      "\u001b[0;31mAttributeError\u001b[0m                            Traceback (most recent call last)",
      "\u001b[0;32m<ipython-input-29-0ca6e9b47c3c>\u001b[0m in \u001b[0;36m<module>\u001b[0;34m()\u001b[0m\n\u001b[1;32m      3\u001b[0m \u001b[0;34m\u001b[0m\u001b[0m\n\u001b[1;32m      4\u001b[0m \u001b[0mp\u001b[0m \u001b[0;34m=\u001b[0m \u001b[0mcvx\u001b[0m\u001b[0;34m.\u001b[0m\u001b[0mProblem\u001b[0m\u001b[0;34m(\u001b[0m\u001b[0mobjective\u001b[0m\u001b[0;34m,\u001b[0m \u001b[0mconstraints\u001b[0m\u001b[0;34m)\u001b[0m\u001b[0;34m\u001b[0m\u001b[0m\n\u001b[0;32m----> 5\u001b[0;31m \u001b[0mp\u001b[0m\u001b[0;34m.\u001b[0m\u001b[0msetParam\u001b[0m\u001b[0;34m(\u001b[0m\u001b[0;34m\"FeasibilityTol\"\u001b[0m\u001b[0;34m,\u001b[0m\u001b[0;36m1e-2\u001b[0m\u001b[0;34m)\u001b[0m\u001b[0;34m\u001b[0m\u001b[0m\n\u001b[0m\u001b[1;32m      6\u001b[0m \u001b[0mresult\u001b[0m \u001b[0;34m=\u001b[0m \u001b[0mp\u001b[0m\u001b[0;34m.\u001b[0m\u001b[0msolve\u001b[0m\u001b[0;34m(\u001b[0m\u001b[0msolver\u001b[0m \u001b[0;34m=\u001b[0m \u001b[0mcvx\u001b[0m\u001b[0;34m.\u001b[0m\u001b[0mGUROBI\u001b[0m\u001b[0;34m,\u001b[0m\u001b[0mverbose\u001b[0m \u001b[0;34m=\u001b[0m \u001b[0;32mTrue\u001b[0m\u001b[0;34m,\u001b[0m \u001b[0mFeasibilityTol\u001b[0m \u001b[0;34m=\u001b[0m \u001b[0;36m1e-2\u001b[0m\u001b[0;34m)\u001b[0m\u001b[0;34m\u001b[0m\u001b[0m\n",
      "\u001b[0;31mAttributeError\u001b[0m: 'Problem' object has no attribute 'setParam'"
     ]
    }
   ],
   "source": [
    "#objective\n",
    "objective = cvx.Minimize(sum(w))\n",
    "\n",
    "p = cvx.Problem(objective, constraints)\n",
    "p.setParam(\"FeasibilityTol\",1e-2)\n",
    "result = p.solve(solver = cvx.GUROBI,verbose = True, FeasibilityTol = 1e-2)"
   ]
  },
  {
   "cell_type": "code",
   "execution_count": 31,
   "metadata": {},
   "outputs": [
    {
     "ename": "AttributeError",
     "evalue": "module 'cvxpy' has no attribute 'cvx_solver_settings'",
     "output_type": "error",
     "traceback": [
      "\u001b[0;31m---------------------------------------------------------------------------\u001b[0m",
      "\u001b[0;31mAttributeError\u001b[0m                            Traceback (most recent call last)",
      "\u001b[0;32m<ipython-input-31-77353ece5e90>\u001b[0m in \u001b[0;36m<module>\u001b[0;34m()\u001b[0m\n\u001b[0;32m----> 1\u001b[0;31m \u001b[0mcvx\u001b[0m\u001b[0;34m.\u001b[0m\u001b[0mcvx_solver_settings\u001b[0m\u001b[0;34m\u001b[0m\u001b[0m\n\u001b[0m",
      "\u001b[0;31mAttributeError\u001b[0m: module 'cvxpy' has no attribute 'cvx_solver_settings'"
     ]
    }
   ],
   "source": []
  },
  {
   "cell_type": "code",
   "execution_count": null,
   "metadata": {},
   "outputs": [],
   "source": [
    "result"
   ]
  },
  {
   "cell_type": "code",
   "execution_count": null,
   "metadata": {},
   "outputs": [],
   "source": [
    "print(w.value)"
   ]
  },
  {
   "cell_type": "code",
   "execution_count": null,
   "metadata": {},
   "outputs": [],
   "source": [
    "print(sum(p0*theta.value[0,:]))\n",
    "print(p0*theta.value[0,:])"
   ]
  },
  {
   "cell_type": "code",
   "execution_count": null,
   "metadata": {},
   "outputs": [],
   "source": [
    "t=6\n",
    "#print(np.matmul(np.matmul(D,theta.value[t-1,:])-theta.value[t,:],np.matmul(grad_p,V)))\n",
    "print(np.linalg.norm(np.matmul(np.matmul(D,theta.value[t-1,:])-theta.value[t,:],np.matmul(grad_p,V)))*np.sqrt(t)*norm.ppf(1-e1))"
   ]
  },
  {
   "cell_type": "code",
   "execution_count": null,
   "metadata": {},
   "outputs": [],
   "source": [
    "print(np.matmul((p0+delta_p*t),(np.matmul(D,theta.value[t-1,:])-theta.value[t,:]))+np.matmul(d,theta.value[t-1,:])-total[t-1]+w.value[t-1])"
   ]
  },
  {
   "cell_type": "code",
   "execution_count": null,
   "metadata": {},
   "outputs": [],
   "source": [
    "print(np.matmul((p0+delta_p*t),(np.matmul(D,theta.value[t-1,:])))+np.matmul(d,theta.value[t-1,:])-total[t-1]-beta*cumm_dis_lia[t]+w.value[t-1])"
   ]
  },
  {
   "cell_type": "code",
   "execution_count": null,
   "metadata": {},
   "outputs": [],
   "source": [
    "beta"
   ]
  },
  {
   "cell_type": "code",
   "execution_count": null,
   "metadata": {},
   "outputs": [],
   "source": [
    "theta.value"
   ]
  },
  {
   "cell_type": "code",
   "execution_count": null,
   "metadata": {},
   "outputs": [],
   "source": []
  },
  {
   "cell_type": "code",
   "execution_count": null,
   "metadata": {},
   "outputs": [],
   "source": []
  }
 ],
 "metadata": {
  "kernelspec": {
   "display_name": "py36-kernal",
   "language": "python",
   "name": "py36-kernal"
  },
  "language_info": {
   "codemirror_mode": {
    "name": "ipython",
    "version": 3
   },
   "file_extension": ".py",
   "mimetype": "text/x-python",
   "name": "python",
   "nbconvert_exporter": "python",
   "pygments_lexer": "ipython3",
   "version": "3.6.4"
  }
 },
 "nbformat": 4,
 "nbformat_minor": 2
}
